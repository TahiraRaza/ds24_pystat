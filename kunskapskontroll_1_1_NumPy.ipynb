{
 "cells": [
  {
   "cell_type": "markdown",
   "id": "dacf74e6",
   "metadata": {},
   "source": [
    "# NumPy"
   ]
  },
  {
   "cell_type": "markdown",
   "id": "01b2bf34",
   "metadata": {},
   "source": [
    "Read the links: https://numpy.org/doc/stable/user/quickstart.html  and https://numpy.org/doc/stable/user/basics.broadcasting.html  before solving the exercises. "
   ]
  },
  {
   "cell_type": "code",
   "execution_count": null,
   "id": "1f79e4a6",
   "metadata": {},
   "outputs": [],
   "source": [
    "import numpy as np"
   ]
  },
  {
   "cell_type": "markdown",
   "id": "7dae6889",
   "metadata": {},
   "source": [
    "### Print out the dimension (number of axes), shape, size and the datatype of the matrix A."
   ]
  },
  {
   "cell_type": "code",
   "execution_count": 17,
   "id": "7b3678cd",
   "metadata": {},
   "outputs": [
    {
     "name": "stdout",
     "output_type": "stream",
     "text": [
      "[[ 1  2  3  4  5]\n",
      " [ 6  7  8  9 10]\n",
      " [11 12 13 14 15]]\n",
      "Dimension 2\n",
      "Shape (3, 5)\n",
      "Size 15\n",
      "Datatype int32\n"
     ]
    }
   ],
   "source": [
    "import numpy as np\n",
    "A = np.arange(1, 16).reshape(3,5)\n",
    "\n",
    "print(A)\n",
    "\n",
    "print(\"Dimension\", A.ndim)\n",
    "print(\"Shape\", A.shape)\n",
    "print(\"Size\", A.size)\n",
    "print(\"Datatype\", A.dtype)"
   ]
  },
  {
   "cell_type": "markdown",
   "id": "e56d2a96",
   "metadata": {},
   "source": [
    "### Do the following computations on the matrices B and C: \n",
    "* Elementwise subtraction. \n",
    "* Elementwise multiplication. \n",
    "* Matrix multiplication (by default you should use the @ operator)."
   ]
  },
  {
   "cell_type": "code",
   "execution_count": 45,
   "id": "a7053fbb",
   "metadata": {},
   "outputs": [
    {
     "name": "stdout",
     "output_type": "stream",
     "text": [
      "[[1 2 3]\n",
      " [4 5 6]\n",
      " [7 8 9]]\n",
      "\n",
      "[[2. 2. 2.]\n",
      " [2. 2. 2.]\n",
      " [2. 2. 2.]]\n",
      "\n",
      "Elementwise subtraction\n",
      "[[-1.  0.  1.]\n",
      " [ 2.  3.  4.]\n",
      " [ 5.  6.  7.]]\n",
      "\n",
      "Elementwise multiplikation\n",
      "[[ 2.  4.  6.]\n",
      " [ 8. 10. 12.]\n",
      " [14. 16. 18.]]\n",
      "\n",
      "Matrix multiplication\n",
      "[[12. 12. 12.]\n",
      " [30. 30. 30.]\n",
      " [48. 48. 48.]]\n"
     ]
    }
   ],
   "source": [
    "B = np.arange(1, 10).reshape(3, 3)\n",
    "C = np.ones((3, 3))*2\n",
    "\n",
    "print(B)\n",
    "print()\n",
    "print(C)\n",
    "print()\n",
    "\n",
    "#Elementwise subtraction\n",
    "D = B - C\n",
    "print(\"Elementwise subtraction\")\n",
    "print(D)\n",
    "print()\n",
    "\n",
    "#Elementwise multiplication\n",
    "E = B * C\n",
    "print(\"Elementwise multiplikation\")\n",
    "print(E)\n",
    "print()\n",
    "\n",
    "#Matrix multiplication\n",
    "F = B @ C\n",
    "print(\"Matrix multiplication\")\n",
    "print(F)"
   ]
  },
  {
   "cell_type": "code",
   "execution_count": null,
   "id": "3cd794ae",
   "metadata": {},
   "outputs": [],
   "source": []
  },
  {
   "cell_type": "markdown",
   "id": "96030d53",
   "metadata": {},
   "source": [
    "### Do the following calculations on the matrix:\n",
    "* Exponentiate each number elementwise (use the np.exp function).\n",
    "\n",
    "* Calculate the minimum value in the whole matrix. \n",
    "* Calculcate the minimum value in each row. \n",
    "* Calculcate the minimum value in each column. \n",
    "\n",
    "\n",
    "* Find the index value for the minimum value in the whole matrix (hint: use np.argmin).\n",
    "* Find the index value for the minimum value in each row (hint: use np.argmin).\n",
    "\n",
    "\n",
    "* Calculate the sum for all elements.\n",
    "* Calculate the mean for each column. \n",
    "* Calculate the median for each column. "
   ]
  },
  {
   "cell_type": "code",
   "execution_count": 77,
   "id": "f8a9166b",
   "metadata": {},
   "outputs": [
    {
     "name": "stdout",
     "output_type": "stream",
     "text": [
      "[[1 2 3]\n",
      " [4 5 6]\n",
      " [7 8 9]]\n",
      "\n",
      "Exponentiate each element in the array\n",
      "[[2.71828183e+00 7.38905610e+00 2.00855369e+01]\n",
      " [5.45981500e+01 1.48413159e+02 4.03428793e+02]\n",
      " [1.09663316e+03 2.98095799e+03 8.10308393e+03]]\n",
      "\n",
      "Minimum value in the whole matrix\n",
      "1\n",
      "\n",
      "Minimum value in each row\n",
      "[1 4 7]\n",
      "\n",
      "Minimum value in each column\n",
      "[1 2 3]\n",
      "\n",
      "Index value for the minimum value in the whole matrix\n",
      "0\n",
      "\n",
      "Index value for the minimum value in each row\n",
      "[0 0 0]\n",
      "\n",
      "Sum for all elements\n",
      "45\n",
      "\n",
      "Mean for each column\n",
      "[4. 5. 6.]\n",
      "\n",
      "Median for each column\n",
      "[4. 5. 6.]\n"
     ]
    }
   ],
   "source": [
    "B = np.arange(1, 10).reshape(3, 3)\n",
    "print(B)\n",
    "print()\n",
    "\n",
    "# Exponentiate each number elementwise\n",
    "C = np.exp(B)\n",
    "print(\"Exponentiate each element in the array\")\n",
    "print(C)\n",
    "print()\n",
    "\n",
    "# Calculate the minimum value in the whole matrix\n",
    "D = np.min(B)\n",
    "print(\"Minimum value in the whole matrix\")\n",
    "print(D)\n",
    "print()\n",
    "\n",
    "#Calculcate the minimum value in each row\n",
    "E = B.min(axis=1)\n",
    "print(\"Minimum value in each row\")\n",
    "print(E)\n",
    "print()\n",
    "\n",
    "#Calculcate the minimum value in each column\n",
    "F = B.min(axis=0)\n",
    "print(\"Minimum value in each column\")\n",
    "print(F)\n",
    "print()\n",
    "\n",
    "#Find the index value for the minimum value in the whole matrix\n",
    "G = np.argmin(B)\n",
    "print(\"Index value for the minimum value in the whole matrix\")\n",
    "print(G)\n",
    "print()\n",
    "\n",
    "#Find the index value for the minimum value in each row\n",
    "H = np.argmin(B, axis=1)\n",
    "print(\"Index value for the minimum value in each row\")\n",
    "print(H)\n",
    "print()\n",
    "\n",
    "#Calculate the sum for all elements\n",
    "I = np.sum(B)\n",
    "print(\"Sum for all elements\")\n",
    "print(I)\n",
    "print()\n",
    "\n",
    "#Calculate the mean for each column\n",
    "J = np.mean(B, axis=0)\n",
    "print(\"Mean for each column\")\n",
    "print(J)\n",
    "print()\n",
    "\n",
    "#Calculate the median for each column\n",
    "K = np.median(B, axis=0)\n",
    "print(\"Median for each column\")\n",
    "print(K)\n"
   ]
  },
  {
   "cell_type": "code",
   "execution_count": null,
   "id": "f03f24f7",
   "metadata": {},
   "outputs": [],
   "source": []
  },
  {
   "cell_type": "markdown",
   "id": "541eb7ba",
   "metadata": {},
   "source": [
    "### What does it mean when you provide fewer indices than axes when slicing? See example below."
   ]
  },
  {
   "cell_type": "code",
   "execution_count": null,
   "id": "9c8abf56",
   "metadata": {},
   "outputs": [],
   "source": [
    "print(A)"
   ]
  },
  {
   "cell_type": "code",
   "execution_count": null,
   "id": "69415f7b",
   "metadata": {},
   "outputs": [],
   "source": [
    "A[1]"
   ]
  },
  {
   "cell_type": "markdown",
   "id": "6c53541b",
   "metadata": {},
   "source": [
    "**Answer:**"
   ]
  },
  {
   "cell_type": "code",
   "execution_count": null,
   "id": "de01e120",
   "metadata": {},
   "outputs": [],
   "source": [
    "When we provide fewer indices than axes when slicing a NumPy array, it means that we are selecting all elements along the unspecified axes.\n",
    "In our example A[1] means that the expression within brackets in A[1] is treated as an 1 followed by as many instances of : as needed to \n",
    "represent the remaining axes."
   ]
  },
  {
   "cell_type": "markdown",
   "id": "6652d0c9",
   "metadata": {},
   "source": [
    "### Iterating over multidimensional arrays is done with respect to the first axis, so in the example below we iterate trough the rows. If you would like to iterate through the array *elementwise*, how would you do that?"
   ]
  },
  {
   "cell_type": "code",
   "execution_count": null,
   "id": "9459864f",
   "metadata": {},
   "outputs": [],
   "source": [
    "A"
   ]
  },
  {
   "cell_type": "code",
   "execution_count": null,
   "id": "a671bb5a",
   "metadata": {},
   "outputs": [],
   "source": [
    "for i in A:\n",
    "    print(i)"
   ]
  },
  {
   "cell_type": "code",
   "execution_count": null,
   "id": "f4e443a0",
   "metadata": {},
   "outputs": [],
   "source": [
    "#Answer: If we want to perform an operation on each element in the array, we can use the flat attribute which is an iterator over all the elements of the array.\n",
    "\n",
    "for element in A.flat:\n",
    "    print(element)"
   ]
  },
  {
   "cell_type": "markdown",
   "id": "608a2583",
   "metadata": {},
   "source": [
    "### Explain what the code below does. More specifically, b has three axes - what does this mean? "
   ]
  },
  {
   "cell_type": "code",
   "execution_count": 79,
   "id": "f8f9b26f",
   "metadata": {},
   "outputs": [
    {
     "name": "stdout",
     "output_type": "stream",
     "text": [
      "[ 0  1  2  3  4  5  6  7  8  9 10 11 12 13 14 15 16 17 18 19 20 21 22 23\n",
      " 24 25 26 27 28 29]\n",
      "\n",
      "[[[ 0  1  2  3  4]\n",
      "  [ 5  6  7  8  9]\n",
      "  [10 11 12 13 14]]\n",
      "\n",
      " [[15 16 17 18 19]\n",
      "  [20 21 22 23 24]\n",
      "  [25 26 27 28 29]]]\n"
     ]
    }
   ],
   "source": [
    "a = np.arange(30)\n",
    "b = a.reshape((2, 3, -1))\n",
    "print(a)\n",
    "print()\n",
    "\n",
    "print(b)"
   ]
  },
  {
   "cell_type": "code",
   "execution_count": null,
   "id": "863a45df",
   "metadata": {},
   "outputs": [],
   "source": [
    "#Answer: \n",
    "a = np.arange(30)          # this code will create a 1D array containing integers from 0 - 29\n",
    "b = a.reshape((2, 3, -1))  # this will reshape the array a as 2 blocks with 3 rows.\n",
    "                           #-1 indicates that NumPy can \"do\" an automatic operation and choose the number of columns as needed.\n",
    "                            \n",
    "print(a)\n",
    "print()\n",
    "\n",
    "print(b)"
   ]
  },
  {
   "cell_type": "markdown",
   "id": "ab5933d5",
   "metadata": {},
   "source": [
    "### Broadcasting\n",
    "**Read the following link about broadcasting: https://numpy.org/doc/stable/user/basics.broadcasting.html#basics-broadcasting**"
   ]
  },
  {
   "cell_type": "markdown",
   "id": "039805ba",
   "metadata": {},
   "source": [
    "# Remark on Broadcasting when doing Linear Algebra calculations in Python. "
   ]
  },
  {
   "cell_type": "markdown",
   "id": "c4bcc147",
   "metadata": {},
   "source": [
    "### From the mathematical rules of matrix addition, the operation below (m1 + m2) does not make sense. The reason is that matrix addition requires two matrices of the same size. In Python however, it works due to broadcasting rules in NumPy. So you must be careful when doing Linear Algebra calculations in Python since they do not follow the \"mathematical rules\". This can however easily be handled by doing some simple programming, for example validating that two matrices have the same shape is easy if you for instance want to add two matrices. "
   ]
  },
  {
   "cell_type": "code",
   "execution_count": null,
   "id": "1fd46778",
   "metadata": {},
   "outputs": [],
   "source": [
    "m1 = np.array([[1, 2], [3, 4]])\n",
    "m2 = np.array([1, 1])\n",
    "print(m1 + m2)"
   ]
  },
  {
   "cell_type": "markdown",
   "id": "047d6576",
   "metadata": {},
   "source": [
    "### The example below would also not be allowed if following the \"mathematical rules\" in Linear Algebra. But it works due to broadcasting in NumPy. "
   ]
  },
  {
   "cell_type": "code",
   "execution_count": null,
   "id": "5e6ef2e4",
   "metadata": {},
   "outputs": [],
   "source": [
    "v1 = np.array([1, 2, 3])\n",
    "print(v1 + 1)"
   ]
  },
  {
   "cell_type": "code",
   "execution_count": null,
   "id": "e2cbae26",
   "metadata": {},
   "outputs": [],
   "source": [
    "A = np.arange(1, 5).reshape(2,2)\n",
    "print(A)\n",
    "\n",
    "b = np.array([2, 2])\n",
    "print(b)"
   ]
  },
  {
   "cell_type": "markdown",
   "id": "722fd5cd",
   "metadata": {},
   "source": [
    "# Vector- and matrix algebra Exercises"
   ]
  },
  {
   "cell_type": "markdown",
   "id": "b63a3081-d976-4d9f-bfd0-a63917e79f7d",
   "metadata": {},
   "source": [
    "**Now you are going to create a function that can be reused every time you add or multiply matrices. The function is created so that we do the addition and multiplication according to the rules of vector- and matrix algebra.**\n",
    "\n",
    "**Create a function \"add_mult_matrices\" that takes two matrices as input arguments (validate that the input are of the type numpy.ndarray by using the isinstance function), a third argument that is either 'add' or 'multiply' that specifies if you want to add or multiply the matrices (validate that the third argument is either 'add' or 'multiply'). When doing matrix addition, validate that the matrices have the same size. When doing matrix multiplication, validate that the sizes conform (i.e. number of columns in the first matrix is equal to the number of rows in the second matrix).**"
   ]
  },
  {
   "cell_type": "code",
   "execution_count": 87,
   "id": "3506f977-ac0a-473f-85bc-eec9f35dc498",
   "metadata": {},
   "outputs": [
    {
     "name": "stdout",
     "output_type": "stream",
     "text": [
      "Result: \n",
      "[[ 8 10 12]\n",
      " [14 16 18]]\n"
     ]
    }
   ],
   "source": [
    "import numpy as np\n",
    "\n",
    "def add_mult_matrices(input1, input2, method):\n",
    "    #Validation if the inputs are the type numpy.ndarray\n",
    "    if not isinstance(input1, np.ndarray) or not isinstance(input2, np.ndarray):\n",
    "        raise TypeError(\"Only matrices are allowed as inputs\")\n",
    "        \n",
    "    #Validation if method is add or multiply\n",
    "    if method not in ['add', 'multiply']:\n",
    "        raise ValueError(\"The method can be either 'add' or 'multiply'\")\n",
    "\n",
    "    #Performing addition of the inputs\n",
    "    if method == 'add':\n",
    "        #Validation if matrix inputs have the same shape\n",
    "        if input1.shape != input2.shape:\n",
    "            raise ValueError(\"Matrices must have the same shape for addition\")\n",
    "            #Returning the result of addition\n",
    "        return np.add(input1, input2)\n",
    "\n",
    "    #Performing multiplication of the inputs\n",
    "    elif method == 'multiply':\n",
    "        #Validation if number of columns in first matrix is same as the number of rows in the second matrix\n",
    "        if input1.shape[1] != input2.shape[0]:\n",
    "            raise ValueError('Number of columns in matrix 1 must be same as number of rows in matrix 2')\n",
    "            #Returning the result of multiplication\n",
    "        return np.dot(input1, input2)\n",
    "\n",
    "#Test \n",
    "input1 = np.array([[1, 2, 3], [4, 5, 6]])\n",
    "input2 = np.array([[7, 8, 9], [10, 11, 12]])\n",
    "method = 'add'\n",
    "\n",
    "result = add_mult_matrices(input1, input2, method)\n",
    "print(\"Result: \")\n",
    "print(result)"
   ]
  },
  {
   "cell_type": "markdown",
   "id": "8dad82d0-2359-4dff-8f5b-a57d3e34103c",
   "metadata": {},
   "source": [
    "### Solve all the exercises in chapter 10.1 in the book \"Matematik för yrkeshögskolan\". "
   ]
  },
  {
   "cell_type": "code",
   "execution_count": 121,
   "id": "89df88af-3668-4d98-a0a4-e6d92eea0f89",
   "metadata": {},
   "outputs": [
    {
     "name": "stdout",
     "output_type": "stream",
     "text": [
      "Vektor x: [4 3]\n",
      "Dimension på vektor x: (2,)\n",
      "5x: [20 15]\n",
      "3x: [12  9]\n",
      "5x + 3x: [32 24]\n",
      "8x: [32 24]\n",
      "4x - x: [12  9]\n",
      "x transponat: [4 3]\n",
      "Den nya dimension efter transponeringen: (2,)\n",
      "x + x.T: [8 6]\n",
      "Normen av vektor x: 5.0\n"
     ]
    }
   ],
   "source": [
    "# Uppgift 10.1.1\n",
    "\n",
    "# Definiera vektor x\n",
    "x = np.array([4, 3])\n",
    "print(\"Vektor x:\", x)\n",
    "\n",
    "#Dimension på vektor x\n",
    "print(\"Dimension på vektor x:\", x.shape)\n",
    "\n",
    "#Beräkna 5x\n",
    "print(\"5x:\", (5 * x))\n",
    "\n",
    "#Beräkna 3x\n",
    "print(\"3x:\", (3 * x))\n",
    "\n",
    "#Beräkna 5x + 3x\n",
    "print(\"5x + 3x:\", 5 * x  + 3 * x)\n",
    "\n",
    "#Beräkna 8x\n",
    "print(\"8x:\", (8 * x))\n",
    "\n",
    "#Beräkna 4x -x\n",
    "print(\"4x - x:\", 4 * x - x)\n",
    "\n",
    "#Beräkna x transponat\n",
    "print(\"x transponat:\", x.T)\n",
    "print(\"Den nya dimension efter transponeringen:\", x.T.shape)\n",
    "\n",
    "# Är x + x transponat definierat?\n",
    "print(\"x + x.T:\", x + x.T)  # NumPy räknar ut detta men egentligen är det ej definierat.\n",
    "\n",
    "#Beräkna ||x||\n",
    "norm_x = np.sqrt(np.sum(x**2))\n",
    "print(\"Normen av vektor x:\", norm_x)"
   ]
  },
  {
   "cell_type": "code",
   "execution_count": 147,
   "id": "d839f09c-209d-4754-be63-adf6124db859",
   "metadata": {},
   "outputs": [
    {
     "name": "stdout",
     "output_type": "stream",
     "text": [
      "Vektor v:\n",
      "[[ 3]\n",
      " [ 7]\n",
      " [ 0]\n",
      " [11]]\n",
      "Dimension på vektor v: (4, 1)\n",
      "\n",
      "2v:\n",
      "[[ 6]\n",
      " [14]\n",
      " [ 0]\n",
      " [22]]\n",
      "\n",
      "5v:\n",
      "[[15]\n",
      " [35]\n",
      " [ 0]\n",
      " [55]]\n",
      "\n",
      "5v + 2v:\n",
      "[[21]\n",
      " [49]\n",
      " [ 0]\n",
      " [77]]\n",
      "\n",
      "4v - 2v:\n",
      "[[ 6]\n",
      " [14]\n",
      " [ 0]\n",
      " [22]]\n",
      "\n",
      "v transponat: [[ 3  7  0 11]]\n",
      "Den nya dimension efter transponeringen: (1, 4)\n",
      "\n",
      "Normen av vektor v: 13.379088160259652\n"
     ]
    }
   ],
   "source": [
    "# Uppgift 10.1.2\n",
    "\n",
    "#Definiera vektor v\n",
    "v = np.array([[3], [7], [0], [11]])\n",
    "print(\"Vektor v:\")\n",
    "print(v)\n",
    "\n",
    "#Dimension på vektor v\n",
    "print(\"Dimension på vektor v:\", v.shape)\n",
    "print()\n",
    "\n",
    "#Beräkna 2v\n",
    "print(\"2v:\")\n",
    "print(2 * v)\n",
    "print()\n",
    "\n",
    "#Beräkna 5v\n",
    "print(\"5v:\")\n",
    "print(5 * v)\n",
    "print()\n",
    "\n",
    "#Beräkna 5v + 2v\n",
    "print(\"5v + 2v:\")\n",
    "print(5 * v  + 2 * v)\n",
    "print()\n",
    "\n",
    "#Beräkna 4v -2v\n",
    "print(\"4v - 2v:\")\n",
    "print(4 * v - 2 * v)\n",
    "print()\n",
    "\n",
    "#Beräkna v transponat\n",
    "print(\"v transponat:\", v.T)\n",
    "print(\"Den nya dimension efter transponeringen:\", v.T.shape)\n",
    "print()\n",
    "\n",
    "#Beräkna ||v||\n",
    "norm_v = np.sqrt(np.sum(v**2))\n",
    "print(\"Normen av vektor v:\", norm_v)"
   ]
  },
  {
   "cell_type": "code",
   "execution_count": 153,
   "id": "882791b7-28ff-4ca6-bc5c-3bd3d6f0b8a7",
   "metadata": {},
   "outputs": [
    {
     "name": "stdout",
     "output_type": "stream",
     "text": [
      "Vektor v1: [4 3 1 5]\n",
      "Vektor v2: [2 3 1 1]\n",
      "Normen av vektor v1: 7.14142842854285\n",
      "Normen av vektor v1 - v2: 3.2684450823354334\n"
     ]
    }
   ],
   "source": [
    "#Uppgift 10.1.3\n",
    "#Definiera vektorerna v1 och v2\n",
    "v1 = np.array([4, 3, 1, 5])\n",
    "v2 = np.array([2, 3, 1, 1])\n",
    "print(\"Vektor v1:\", v1)\n",
    "print(\"Vektor v2:\", v2)\n",
    "\n",
    "#Beräkna ||v1||\n",
    "norm_v1 = np.sqrt(np.sum(v1**2))\n",
    "print(\"Normen av vektor v1:\", norm_v1)\n",
    "\n",
    "#Beräkna ||v1 - v2||\n",
    "norm_v2 = np.sqrt(np.sum(v2**2))\n",
    "print(\"Normen av vektor v1 - v2:\", norm_v1 - norm_v2)"
   ]
  },
  {
   "cell_type": "markdown",
   "id": "75c98984-1f88-4df1-b850-d2466de444a5",
   "metadata": {},
   "source": [
    "### Solve all the exercises, except 10.2.4, in chapter 10.2 in the book \"Matematik för yrkeshögskolan\". "
   ]
  },
  {
   "cell_type": "code",
   "execution_count": 199,
   "id": "65371610-16e1-48b2-b7fb-65e49002608a",
   "metadata": {},
   "outputs": [
    {
     "name": "stdout",
     "output_type": "stream",
     "text": [
      "2A:\n",
      "[[ 4  2 -2]\n",
      " [ 2 -2  2]]\n",
      "\n",
      "B - 2A:\n",
      "[[ 0 -4  3]\n",
      " [ 0 -2 -4]]\n",
      "\n",
      "3C - 2E:\n",
      "[[ 1  4]\n",
      " [ 2 -1]]\n",
      "\n",
      "2D - 3C:\n",
      "[[3 2]\n",
      " [2 3]]\n",
      "\n",
      "D.T + 2D:\n",
      "[[ 9 12]\n",
      " [12  9]]\n",
      "\n",
      "2C.T - 2D.T:\n",
      "[[-4 -4]\n",
      " [-4 -4]]\n",
      "\n",
      "CD:\n",
      "[[11 10]\n",
      " [10 11]]\n",
      "\n",
      "CB:\n",
      "[[  8 -10  -3]\n",
      " [ 10  -8   0]]\n",
      "\n",
      "CI:\n",
      "[[1 2]\n",
      " [2 1]]\n",
      "\n",
      "AB.T:\n",
      "[[5 2]\n",
      " [7 4]]\n",
      "\n"
     ]
    }
   ],
   "source": [
    "#Uppgift 10.2.1\n",
    "#Definiera matriserna\n",
    "\n",
    "A = np.array([[2, 1, -1],\n",
    "              [1, -1, 1]])\n",
    "\n",
    "B = np.array([[4, -2, 1],\n",
    "              [2, -4, -2]])\n",
    "\n",
    "C = np.array([[1, 2],\n",
    "              [2, 1]])\n",
    "\n",
    "D = np.array([[3, 4],\n",
    "              [4, 3]]) \n",
    "\n",
    "E = np.array([[1],\n",
    "              [2]]) \n",
    "\n",
    "I = np.array([[1, 0],\n",
    "              [0, 1]]) \n",
    "\n",
    "#Beräkna 2A\n",
    "print(\"2A:\")\n",
    "print(2 * A)\n",
    "print()\n",
    "\n",
    "#Beräkna B - 2A\n",
    "print(\"B - 2A:\")\n",
    "print(B - 2 * A)\n",
    "print()\n",
    "\n",
    "#Beräkna 3C - 2E\n",
    "print(\"3C - 2E:\")\n",
    "print(3 * C - 2 * E)   # NumPy räknar ut detta fast det är ej definierat.\n",
    "print()\n",
    "\n",
    "#Beräkna 2D - 3C\n",
    "print(\"2D - 3C:\")\n",
    "print(2 * D - 3 * C) \n",
    "print()\n",
    "\n",
    "#Beräkna D.T (D transponat) + 2D\n",
    "print(\"D.T + 2D:\")\n",
    "print(D.T + 2 * D)\n",
    "print()\n",
    "\n",
    "#Beräkna 2C.T - 2D.T\n",
    "print(\"2C.T - 2D.T:\")\n",
    "print(2 * C.T - 2 * D.T)\n",
    "print()\n",
    "\n",
    "#Beräkna A.T - B     Fick error när jag försökte köra detta\n",
    "#print(\"A.T - B:\")\n",
    "#print(A.T - B)\n",
    "#print(\"Ej definierat!\")\n",
    "#print()\n",
    "\n",
    "#Beräkna AC         Fick error när jag försökte köra detta\n",
    "#print(\"AC:\")\n",
    "#print(A * C)\n",
    "#print(\"Ej definierat!\")\n",
    "#print()\n",
    "\n",
    "#Beräkna CD  \n",
    "CD = C @ D\n",
    "print(\"CD:\")\n",
    "print(CD)\n",
    "print()\n",
    "\n",
    "#Beräkna CB  \n",
    "CB = C @ B\n",
    "print(\"CB:\")\n",
    "print(CB)\n",
    "print() \n",
    "\n",
    "#Beräkna CI  \n",
    "CI = C @ I\n",
    "print(\"CI:\")\n",
    "print(CI)\n",
    "print() \n",
    "\n",
    "#Beräkna AB.T\n",
    "print(\"AB.T:\")\n",
    "print(A @ B.T)\n",
    "print()"
   ]
  },
  {
   "cell_type": "code",
   "execution_count": 201,
   "id": "0be6f1ea-7c49-41bf-9b46-fe27f395875a",
   "metadata": {},
   "outputs": [
    {
     "name": "stdout",
     "output_type": "stream",
     "text": [
      "AA.T:\n",
      "[[29 26]\n",
      " [26 42]]\n",
      "\n"
     ]
    }
   ],
   "source": [
    "#Uppgift 10.2.2\n",
    "\n",
    "#Definiera matrisen\n",
    "A = np.array([[2, 3, 4],\n",
    "              [5, 4, 1]])\n",
    "\n",
    "#Beräkna AA.T\n",
    "print(\"AA.T:\")\n",
    "print(A @ A.T)\n",
    "print()"
   ]
  },
  {
   "cell_type": "code",
   "execution_count": 203,
   "id": "36d8135f-f156-493d-93e7-0ac4d9e1254b",
   "metadata": {},
   "outputs": [
    {
     "name": "stdout",
     "output_type": "stream",
     "text": [
      "AB:\n",
      "[[ 4  7]\n",
      " [ 8 14]]\n",
      "\n",
      "AC:\n",
      "[[ 4  7]\n",
      " [ 8 14]]\n",
      "\n"
     ]
    }
   ],
   "source": [
    "#Uppgift 10.2.3\n",
    "\n",
    "#Definiera matrisen\n",
    "A = np.array([[1, 2],\n",
    "              [2, 4]]) \n",
    "\n",
    "B = np.array([[2, 1],\n",
    "              [1, 3]]) \n",
    "\n",
    "C = np.array([[4, 3],\n",
    "              [0, 2]])\n",
    "\n",
    "#Verifiera att AB = AC men att B är inte lika med C\n",
    "\n",
    "#Beräkna AB  \n",
    "AB = A @ B\n",
    "print(\"AB:\")\n",
    "print(AB)\n",
    "print() \n",
    "\n",
    "#Beräkna AC  \n",
    "AC = A @ C\n",
    "print(\"AC:\")\n",
    "print(AC)\n",
    "print() "
   ]
  },
  {
   "cell_type": "markdown",
   "id": "6a4a524f",
   "metadata": {},
   "source": [
    "### Copies and Views\n",
    "Read the following link: https://numpy.org/doc/stable/user/basics.copies.html"
   ]
  },
  {
   "cell_type": "markdown",
   "id": "6cbbeaf7",
   "metadata": {},
   "source": [
    "**Basic indexing creates a view, How can you check if v1 and v2 is a view or copy? If you change the last element in v2 to 123, will the last element in v1 be changed? Why?**"
   ]
  },
  {
   "cell_type": "code",
   "execution_count": null,
   "id": "5b9ef4df",
   "metadata": {},
   "outputs": [],
   "source": [
    "v1 = np.arange(4)\n",
    "v2 = v1[-2:]\n",
    "print(v1)\n",
    "print(v2)"
   ]
  },
  {
   "cell_type": "code",
   "execution_count": null,
   "id": "d2440489",
   "metadata": {},
   "outputs": [],
   "source": [
    "# The base attribute of a view returns the original array while it returns None for a copy.\n",
    "print(v1.base)\n",
    "print(v2.base)"
   ]
  },
  {
   "cell_type": "code",
   "execution_count": null,
   "id": "c8752807",
   "metadata": {},
   "outputs": [],
   "source": [
    "# The last element in v1 will be changed aswell since v2 is a view, meaning they share the same data buffer.\n",
    "v2[-1] = 123\n",
    "print(v1)\n",
    "print(v2)"
   ]
  },
  {
   "cell_type": "markdown",
   "id": "8e2c7b3d-3d92-4ef8-b942-1a4963fe2283",
   "metadata": {},
   "source": [
    "Det verkar som du har svarat på frågorna själv.\n",
    "// Tahira"
   ]
  },
  {
   "cell_type": "code",
   "execution_count": null,
   "id": "68f3ca41-a048-4408-961c-f070761764ba",
   "metadata": {},
   "outputs": [],
   "source": []
  }
 ],
 "metadata": {
  "kernelspec": {
   "display_name": "Python 3 (ipykernel)",
   "language": "python",
   "name": "python3"
  },
  "language_info": {
   "codemirror_mode": {
    "name": "ipython",
    "version": 3
   },
   "file_extension": ".py",
   "mimetype": "text/x-python",
   "name": "python",
   "nbconvert_exporter": "python",
   "pygments_lexer": "ipython3",
   "version": "3.12.4"
  }
 },
 "nbformat": 4,
 "nbformat_minor": 5
}
